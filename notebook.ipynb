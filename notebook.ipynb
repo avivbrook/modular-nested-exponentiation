{
 "metadata": {
  "language_info": {
   "codemirror_mode": {
    "name": "ipython",
    "version": 3
   },
   "file_extension": ".py",
   "mimetype": "text/x-python",
   "name": "python",
   "nbconvert_exporter": "python",
   "pygments_lexer": "ipython3",
   "version": "3.9.1-final"
  },
  "orig_nbformat": 2,
  "kernelspec": {
   "name": "python3",
   "display_name": "Python 3",
   "language": "python"
  }
 },
 "nbformat": 4,
 "nbformat_minor": 2,
 "cells": [
  {
   "source": [
    "# Summary\n",
    "\n",
    "We present an algorithm that takes as input an arbitrarily long sequence of positive integers $a_1,a_2,\\ldots,a_\\ell$ and a positive integer $m$ and computes\n",
    "$$a_1^{a_2^{\\cdot^{\\cdot^{a_\\ell}}}}\\bmod m$$\n",
    "efficiently (that is, without computing the value of the nested exponent)."
   ],
   "cell_type": "markdown",
   "metadata": {}
  },
  {
   "source": [
    "# Notation\n",
    "\n",
    "For convenience, we define an operator $E$ as a shorthand for nested exponentiation.\n",
    "\n",
    "---\n",
    "\n",
    "> **Definition.** Given a tuple of $\\ell$ positive integers $(a_1,a_2,\\ldots,a_\\ell)$, define the operator $E$ recursively as follows.\n",
    "$$E(a_1,a_2,\\ldots,a_\\ell)=\\begin{cases}1&\\ell=0\\\\a_1^{E(a_2,\\ldots,a_\\ell)}&\\ell\\gt0\\end{cases}$$\n",
    "We call $a_1$ the **base** and $E(a_2,\\ldots,a_\\ell)$ the **exponent** of $E(a_1,a_2,\\ldots,a_\\ell)$.\n",
    "\n",
    "---\n",
    "\n",
    "We are interested in computing $E(a_1,a_2,\\ldots,a_\\ell)\\bmod m$."
   ],
   "cell_type": "markdown",
   "metadata": {}
  },
  {
   "source": [
    "# Preliminaries"
   ],
   "cell_type": "markdown",
   "metadata": {}
  },
  {
   "cell_type": "code",
   "execution_count": 1,
   "metadata": {},
   "outputs": [
    {
     "output_type": "stream",
     "name": "stdout",
     "text": [
      "Defaulting to user installation because normal site-packages is not writeable\n",
      "Requirement already satisfied: mod-nest-exp in /home/avbrook/.local/lib/python3.9/site-packages (1.1.0)\n"
     ]
    }
   ],
   "source": [
    "!python3 -m pip install mod-nest-exp"
   ]
  },
  {
   "source": [
    "# The algorithm"
   ],
   "cell_type": "markdown",
   "metadata": {}
  },
  {
   "source": [
    "## `pow_lt`\n",
    "\n",
    "`pow_lt` takes as input a sequence of positive integers $e_1,e_2,\\ldots,e_\\ell$ and a positive number $k$ and returns `True` iff $E(e_1,e_2,\\ldots,e_\\ell)\\lt k$."
   ],
   "cell_type": "markdown",
   "metadata": {}
  },
  {
   "cell_type": "code",
   "execution_count": 2,
   "metadata": {},
   "outputs": [],
   "source": [
    "from decimal import Decimal\n",
    "from math import ceil\n",
    "\n",
    "def pow_lt(seq, k):\n",
    "    if not len(seq): # if len(seq) == 0\n",
    "        return 1 < k\n",
    "\n",
    "    def _pow_lt(seq, k):\n",
    "        if len(seq) == 1 or seq[0] == 1:\n",
    "            return seq[0] < k\n",
    "        if seq[1]*(seq[0].bit_length()-1) >= ceil(k).bit_length():\n",
    "            return False\n",
    "        l = Decimal(k).ln()/Decimal(seq[0]).ln() # high precision logarithm\n",
    "        return _pow_lt(seq[1:], l) if l > 1 else False\n",
    "\n",
    "    return _pow_lt(seq, k)"
   ]
  },
  {
   "source": [
    "## `pow_list`\n",
    "\n",
    "`pow_list` takes as input a sequence of numbers $e_1,e_2,\\ldots,e_\\ell$ and returns the value of $E(e_1,e_2,\\ldots,e_\\ell)$."
   ],
   "cell_type": "markdown",
   "metadata": {}
  },
  {
   "cell_type": "code",
   "execution_count": 3,
   "metadata": {},
   "outputs": [],
   "source": [
    "def pow_list(seq):\n",
    "    l = len(seq)\n",
    "    if not l: # if len(seq) == 0\n",
    "        return 1\n",
    "    elif l == 1: # if len(seq) == 1\n",
    "        return seq[0]\n",
    "\n",
    "    def _pow_list(seq):\n",
    "        if seq[0] == 1:\n",
    "            return 1\n",
    "        if len(seq) == 2:\n",
    "            return seq[0]**seq[1]\n",
    "        return seq[0]**_pow_list(seq[1:])\n",
    "    \n",
    "    return _pow_list(seq)"
   ]
  },
  {
   "source": [
    "## The main function\n",
    "\n",
    "`mod_nest_exp` takes as input a sequence of positive integers $a_1,a_2,\\ldots,a_\\ell$ and a positive integer $m$ and returns $E(a_1,a_2,\\ldots,a_\\ell)\\bmod m$."
   ],
   "cell_type": "markdown",
   "metadata": {}
  },
  {
   "cell_type": "code",
   "execution_count": 4,
   "metadata": {},
   "outputs": [],
   "source": [
    "from gmpy2 import gcd, powmod, gcdext\n",
    "from sympy.ntheory import totient\n",
    "\n",
    "def mod_nest_exp(seq, m):\n",
    "    if m == 1: # 1 divides every integer\n",
    "        return 0\n",
    "    l = len(seq)\n",
    "    if not l: # if len(seq) == 0\n",
    "        return 1%m\n",
    "    elif l == 1: # if len(seq) == 1\n",
    "        return seq[0]%m\n",
    "\n",
    "    def _mod_nest_exp(seq, m):\n",
    "        if m == 1: # 1 divides every integer\n",
    "            return 0\n",
    "        if len(seq) == 2: # recursive base case\n",
    "            return powmod(seq[0], seq[1], m)\n",
    "        \n",
    "        b, e = seq[0], seq[1:] # base and exponent\n",
    "        g = gcd(b, m)\n",
    "        if g == 1:\n",
    "            return powmod(b, _mod_nest_exp(e, totient(m)), m)\n",
    "        \n",
    "        n, k = m//g, 1\n",
    "        g_ = gcd(g, n)\n",
    "        while g_ > 1:\n",
    "            n //= g_\n",
    "            k += 1\n",
    "            g_ = gcd(g, n)\n",
    "        h = m//n\n",
    "        _, x, y = gcdext(n, h)\n",
    "        return (h*(y%n)*powmod(b, _mod_nest_exp(e, totient(n)), n)+\n",
    "                n*(x%h)*(powmod(b, pow_list(e), h) if pow_lt(e, k) else 0))%m\n",
    "    \n",
    "    return _mod_nest_exp(seq, m)"
   ]
  },
  {
   "cell_type": "code",
   "execution_count": 5,
   "metadata": {},
   "outputs": [
    {
     "output_type": "stream",
     "name": "stdout",
     "text": [
      "================================================================================\n",
      "Benchmarking mod_nest_exp (64-bit moduli)\n",
      "================================================================================\n",
      "10 bit numbers:\n",
      "\tlists of length 10\n",
      "\tstats from 1000 runs\n",
      "\t\tmean: 1.31e-02 seconds\n",
      "\t\tmedian: 2.67e-03 seconds\n",
      "\t\tstdev: 4.97e-02 seconds\n",
      "\tlists of length 100\n",
      "\tstats from 1000 runs\n",
      "\t\tmean: 1.22e-02 seconds\n",
      "\t\tmedian: 2.89e-03 seconds\n",
      "\t\tstdev: 4.64e-02 seconds\n",
      "\tlists of length 1000\n",
      "\tstats from 1000 runs\n",
      "\t\tmean: 1.52e-02 seconds\n",
      "\t\tmedian: 3.28e-03 seconds\n",
      "\t\tstdev: 5.12e-02 seconds\n",
      "100 bit numbers:\n",
      "\tlists of length 10\n",
      "\tstats from 1000 runs\n",
      "\t\tmean: 1.38e-02 seconds\n",
      "\t\tmedian: 2.90e-03 seconds\n",
      "\t\tstdev: 5.20e-02 seconds\n",
      "\tlists of length 100\n",
      "\tstats from 1000 runs\n",
      "\t\tmean: 9.73e-03 seconds\n",
      "\t\tmedian: 2.61e-03 seconds\n",
      "\t\tstdev: 3.39e-02 seconds\n",
      "\tlists of length 1000\n",
      "\tstats from 1000 runs\n",
      "\t\tmean: 1.32e-02 seconds\n",
      "\t\tmedian: 3.46e-03 seconds\n",
      "\t\tstdev: 6.01e-02 seconds\n",
      "1000 bit numbers:\n",
      "\tlists of length 10\n",
      "\tstats from 1000 runs\n",
      "\t\tmean: 1.74e-02 seconds\n",
      "\t\tmedian: 3.50e-03 seconds\n",
      "\t\tstdev: 6.42e-02 seconds\n",
      "\tlists of length 100\n",
      "\tstats from 1000 runs\n",
      "\t\tmean: 1.06e-02 seconds\n",
      "\t\tmedian: 3.31e-03 seconds\n",
      "\t\tstdev: 3.25e-02 seconds\n",
      "\tlists of length 1000\n",
      "\tstats from 1000 runs\n",
      "\t\tmean: 1.07e-02 seconds\n",
      "\t\tmedian: 3.20e-03 seconds\n",
      "\t\tstdev: 3.12e-02 seconds\n"
     ]
    }
   ],
   "source": [
    "!python3 tests/test_core.py"
   ]
  }
 ]
}