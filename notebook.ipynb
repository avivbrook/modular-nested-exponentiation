{
  "nbformat": 4,
  "nbformat_minor": 0,
  "metadata": {
    "colab": {
      "name": "Untitled2.ipynb",
      "provenance": [],
      "collapsed_sections": []
    },
    "kernelspec": {
      "name": "python3",
      "display_name": "Python 3.9.2 64-bit",
      "metadata": {
        "interpreter": {
          "hash": "31f2aee4e71d21fbe5cf8b01ff0e069b9275f58929596ceb00d14d90e3e16cd6"
        }
      }
    },
    "language_info": {
      "name": "python",
      "version": "3.9.2-final"
    }
  },
  "cells": [
    {
      "cell_type": "markdown",
      "metadata": {
        "id": "vBilfNcmxn8Q"
      },
      "source": [
        "# Summary\n",
        "\n",
        "We present an algorithm that takes as input an arbitrarily long sequence of positive integers $a_1,a_2,\\ldots,a_\\ell$ and a positive integer $m$ and computes\n",
        "$$a_1^{a_2^{\\cdot^{\\cdot^{a_\\ell}}}}\\bmod m$$\n",
        "efficiently (that is, without computing the value of the nested exponent)."
      ]
    },
    {
      "cell_type": "markdown",
      "metadata": {
        "id": "XdsY55cnxp98"
      },
      "source": [
        "# Notation\n",
        "\n",
        "For convenience, we define an operator $E$ as a shorthand for nested exponentiation.\n",
        "\n",
        "---\n",
        "\n",
        "> **Definition.** Given a tuple of $\\ell$ positive integers $(a_1,a_2,\\ldots,a_\\ell)$, define the operator $E$ recursively as follows.\n",
        "$$E(a_1,a_2,\\ldots,a_\\ell)=\\begin{cases}1&\\ell=0\\\\a_1^{E(a_2,\\ldots,a_\\ell)}&\\ell\\gt0\\end{cases}$$\n",
        "We call $a_1$ the **base** and $E(a_2,\\ldots,a_\\ell)$ the **exponent** of $E(a_1,a_2,\\ldots,a_\\ell)$.\n",
        "\n",
        "---\n",
        "\n",
        "We are interested in computing $E(a_1,a_2,\\ldots,a_\\ell)\\bmod m$."
      ]
    },
    {
      "cell_type": "markdown",
      "metadata": {
        "id": "ZZCXR0lUxsYo"
      },
      "source": [
        "# Preliminaries\n",
        "\n",
        "We first install the prerequisites for `gmpy2`."
      ]
    },
    {
      "cell_type": "code",
      "metadata": {
        "colab": {
          "base_uri": "https://localhost:8080/"
        },
        "id": "Os73retGxwlY",
        "outputId": "ff023cc2-8b7e-4f2d-8601-0133fdedad0e"
      },
      "source": [
        "!python3 -V"
      ],
      "execution_count": 1,
      "outputs": [
        {
          "output_type": "stream",
          "name": "stdout",
          "text": [
            "Python 3.9.2\n"
          ]
        }
      ]
    },
    {
      "cell_type": "code",
      "metadata": {
        "colab": {
          "base_uri": "https://localhost:8080/"
        },
        "id": "blQAIBF-xte8",
        "outputId": "b5743aef-f14b-4d2b-a717-4c5e390c04eb"
      },
      "source": [
        "!sudo apt install libgmp-dev libmpfr-dev libmpc-dev # for gmpy2"
      ],
      "execution_count": 3,
      "outputs": [
        {
          "output_type": "stream",
          "name": "stdout",
          "text": [
            "\u001b[1;31mE: \u001b[0mCould not open lock file /var/lib/dpkg/lock-frontend - open (13: Permission denied)\u001b[0m\n\u001b[1;31mE: \u001b[0mUnable to acquire the dpkg frontend lock (/var/lib/dpkg/lock-frontend), are you root?\u001b[0m\n"
          ]
        }
      ]
    },
    {
      "cell_type": "code",
      "metadata": {
        "colab": {
          "base_uri": "https://localhost:8080/"
        },
        "id": "8PM_cC1xxyMg",
        "outputId": "f7f346d7-5295-41f6-d1ab-4d898212c98e"
      },
      "source": [
        "!pip3 install -U gmpy2 sympy mod-nest-exp"
      ],
      "execution_count": 4,
      "outputs": [
        {
          "output_type": "stream",
          "name": "stdout",
          "text": [
            "Collecting gmpy2\n",
            "  Using cached gmpy2-2.0.8.zip (280 kB)\n",
            "Requirement already satisfied: sympy in /home/avbrook/.local/lib/python3.9/site-packages (1.7.1)\n",
            "Collecting sympy\n",
            "  Using cached sympy-1.7.1-py3-none-any.whl (5.9 MB)\n",
            "  Using cached sympy-1.7-py3-none-any.whl (5.9 MB)\n",
            "Requirement already satisfied: mod-nest-exp in /home/avbrook/.local/lib/python3.9/site-packages (1.0.9)\n",
            "Collecting mod-nest-exp\n",
            "  Using cached mod_nest_exp-1.0.9-py3-none-any.whl (23 kB)\n",
            "  Using cached mod_nest_exp-1.0.8-py3-none-any.whl (23 kB)\n",
            "Requirement already satisfied: mpmath>=0.19 in /home/avbrook/.local/lib/python3.9/site-packages (from sympy) (1.2.1)\n",
            "Building wheels for collected packages: gmpy2\n",
            "  Building wheel for gmpy2 (setup.py) ... \u001b[?25ldone\n",
            "\u001b[?25h  Created wheel for gmpy2: filename=gmpy2-2.0.8-cp39-cp39-linux_x86_64.whl size=576617 sha256=6e2228ba8f09d3f62479d6488fa826d4e1890c3ce558c4b3279991078d8facc6\n",
            "  Stored in directory: /home/avbrook/.cache/pip/wheels/be/e7/d6/188a82f46ecf937c78d0d4db5061976dc67c7caa8dc358a823\n",
            "Successfully built gmpy2\n",
            "Installing collected packages: gmpy2\n",
            "Successfully installed gmpy2-2.0.8\n"
          ]
        }
      ]
    },
    {
      "cell_type": "markdown",
      "metadata": {
        "id": "fDhz8yxOx1fc"
      },
      "source": [
        "# The algorithm"
      ]
    },
    {
      "cell_type": "markdown",
      "metadata": {
        "id": "Vvcuetmpx43E"
      },
      "source": [
        "## `pow_lt`\n",
        "\n",
        "`pow_lt` takes as input a sequence of positive integers $e_1,e_2,\\ldots,e_\\ell$ and a positive number $k$ and returns `True` iff $E(e_1,e_2,\\ldots,e_\\ell)\\lt k$."
      ]
    },
    {
      "cell_type": "code",
      "metadata": {
        "id": "1FPyimuax5yc"
      },
      "source": [
        "from decimal import Decimal\n",
        "from math import ceil\n",
        "\n",
        "def pow_lt(seq, k):\n",
        "    if not len(seq): # if len(seq) == 0\n",
        "        return 1 < k\n",
        "\n",
        "    def _pow_lt(seq, k):\n",
        "        if len(seq) == 1 or seq[0] == 1:\n",
        "            return seq[0] < k\n",
        "        if seq[1]*(seq[0].bit_length()-1) >= ceil(k).bit_length():\n",
        "            return False\n",
        "        l = Decimal(k).ln()/Decimal(seq[0]).ln() # high precision logarithm\n",
        "        return _pow_lt(seq[1:], l) if l > 1 else False\n",
        "\n",
        "    return _pow_lt(seq, k)"
      ],
      "execution_count": 5,
      "outputs": []
    },
    {
      "cell_type": "markdown",
      "metadata": {
        "id": "wTlw9z8hx7mE"
      },
      "source": [
        "## `pow_list`\n",
        "\n",
        "`pow_list` takes as input a sequence of numbers $e_1,e_2,\\ldots,e_\\ell$ and returns the value of $E(e_1,e_2,\\ldots,e_\\ell)$."
      ]
    },
    {
      "cell_type": "code",
      "metadata": {
        "id": "UgyUmPdtx7U4"
      },
      "source": [
        "def pow_list(seq):\n",
        "    l = len(seq)\n",
        "    if not l: # if len(seq) == 0\n",
        "        return 1\n",
        "    elif l == 1: # if len(seq) == 1\n",
        "        return seq[0]\n",
        "\n",
        "    def _pow_list(seq):\n",
        "        if seq[0] == 1:\n",
        "            return 1\n",
        "        if len(seq) == 2:\n",
        "            return seq[0]**seq[1]\n",
        "        return seq[0]**_pow_list(seq[1:])\n",
        "    \n",
        "    return _pow_list(seq)"
      ],
      "execution_count": 6,
      "outputs": []
    },
    {
      "cell_type": "markdown",
      "metadata": {
        "id": "xfKAS1acx-Aw"
      },
      "source": [
        "## The main function\n",
        "\n",
        "`mod_tower` takes as input a sequence of positive integers $a_1,a_2,\\ldots,a_\\ell$ and a positive integer $m$ and returns $E(a_1,a_2,\\ldots,a_\\ell)\\bmod m$."
      ]
    },
    {
      "cell_type": "code",
      "metadata": {
        "id": "PVHeGO6NyAbc"
      },
      "source": [
        "from gmpy2 import powmod, gcd, gcdext as ext_gcd\n",
        "from sympy.ntheory import totient\n",
        "\n",
        "def mod_nest_exp(seq, m):\n",
        "    if m == 1: # 1 divides every integer\n",
        "        return 0\n",
        "    l = len(seq)\n",
        "    if not l: # if len(seq) == 0\n",
        "        return 1%m\n",
        "    elif l == 1: # if len(seq) == 1\n",
        "        return seq[0]%m\n",
        "\n",
        "    def _mod_nest_exp(seq, m):\n",
        "        if m == 1: # 1 divides every integer\n",
        "            return 0\n",
        "        if len(seq) == 2: # recursive base case\n",
        "            return powmod(seq[0], seq[1], m)\n",
        "        \n",
        "        b, e = seq[0], seq[1:] # base and exponent\n",
        "        g = gcd(b, m)\n",
        "        if g == 1:\n",
        "            return powmod(b, _mod_nest_exp(e, totient(m)), m)\n",
        "        \n",
        "        n, k = m//g, 1\n",
        "        g_ = gcd(g, n)\n",
        "        while g_ > 1:\n",
        "            n //= g_\n",
        "            k += 1\n",
        "            g_ = gcd(g, n)\n",
        "        h = m//n\n",
        "        _, x, y = ext_gcd(n, h)\n",
        "        return (h*(y%n)*powmod(b, _mod_nest_exp(e, totient(n)), n)+\n",
        "                n*(x%h)*(powmod(b, pow_list(e), h) if pow_lt(e, k) else 0))%m\n",
        "    \n",
        "    return _mod_nest_exp(seq, m)"
      ],
      "execution_count": 8,
      "outputs": []
    },
    {
      "cell_type": "code",
      "metadata": {
        "colab": {
          "base_uri": "https://localhost:8080/"
        },
        "id": "x-PPcGoOyGJE",
        "outputId": "112fd32f-c2be-41c8-d137-4242b637394f"
      },
      "source": [
        "from mod_nest_exp.core.benchmarks import benchmark_core\n",
        "\n",
        "benchmark_core(\n",
        "    list_lengths=(10, 100, 1000),\n",
        "    bit_lengths=(16, 128, 1024),\n",
        "    mod_bit_lengths=(16, 32, 64)\n",
        ")"
      ],
      "execution_count": 9,
      "outputs": [
        {
          "output_type": "stream",
          "name": "stdout",
          "text": [
            "Running mod_nest_exp on sequences of l pseudorandom b-bit positive integers over a B-bit modulus (1000 runs per table entry)\n",
            "=================================================================\n",
            "                            sequence length l                   \n",
            "                  10               100               1000      \n",
            "          ----------------- ----------------- -----------------\n",
            "  B     b     mean    stdev     mean    stdev     mean    stdev\n",
            "-----------------------------------------------------------------\n",
            "       16 |   0.09     0.04     0.09     0.04     0.11     0.04  \n",
            " 16   128 |   0.08     0.03     0.09     0.04     0.11     0.04  \n",
            "     1024 |   0.08     0.04     0.09     0.04     0.12     0.04  \n",
            "-----------------------------------------------------------------\n",
            "       16 |   0.32     0.23     0.37     0.60     0.38     0.25  \n",
            " 32   128 |   0.34     0.24     0.35     0.27     0.38     0.24  \n",
            "     1024 |   0.35     0.25     0.35     0.24     0.38     0.24  \n",
            "-----------------------------------------------------------------\n",
            "       16 |   6.77    25.62     6.70    24.61     7.27    27.80  \n",
            " 64   128 |   7.95    32.72     7.28    22.76     7.45    26.66  \n",
            "     1024 |   7.61    30.87     7.77    30.44     7.33    21.56  \n",
            "=================================================================\n"
          ]
        }
      ]
    },
    {
      "cell_type": "code",
      "execution_count": null,
      "metadata": {},
      "outputs": [],
      "source": []
    }
  ]
}